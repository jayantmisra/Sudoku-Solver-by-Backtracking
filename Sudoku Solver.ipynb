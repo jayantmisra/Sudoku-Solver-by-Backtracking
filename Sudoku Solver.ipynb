{
 "cells": [
  {
   "cell_type": "code",
   "execution_count": 55,
   "metadata": {},
   "outputs": [
    {
     "name": "stdout",
     "output_type": "stream",
     "text": [
      "[[1 6 5 8 4 7 9 2 3]\n",
      " [7 8 9 3 1 2 5 4 6]\n",
      " [4 3 2 5 9 6 1 7 8]\n",
      " [2 9 7 4 6 3 8 5 1]\n",
      " [5 1 8 7 2 9 3 6 4]\n",
      " [3 4 6 1 5 8 2 9 7]\n",
      " [9 7 3 2 8 4 6 1 5]\n",
      " [8 2 1 6 7 5 4 3 9]\n",
      " [6 5 4 9 3 1 7 8 2]]\n",
      "Sudoku Solved!!!\n"
     ]
    }
   ],
   "source": [
    "#  Solving Sudoku using backtracking algorithm\n",
    "\n",
    "import numpy as np\n",
    "\n",
    "# function to check the possibility of a number to be at a place\n",
    "def possibility(row, col, n, mtx):\n",
    "    # checking if the number is present in the current row\n",
    "    for i in range(0,9):\n",
    "        if mtx[row][i] == n:\n",
    "            return False\n",
    "        \n",
    "    # checking if the number is present in the current column\n",
    "    for i in range(0,9):\n",
    "        if mtx[i][col] == n:\n",
    "            return False\n",
    "    \n",
    "    # calculating 3x3 grid \n",
    "    xx = (col//3)*3\n",
    "    yy = (row//3)*3\n",
    "    \n",
    "    # checking if the number is present in the 3x3 grid\n",
    "    for i in range(0,3):\n",
    "        for j in range(0,3):\n",
    "            if mtx[yy+i][xx+j] == n:\n",
    "                return False\n",
    "    return True    \n",
    "\n",
    "# using backtracking to solve sudoku in this function\n",
    "def sudoku(mtx):\n",
    "    for i in range(0,9):\n",
    "        for j in range(0,9):\n",
    "            if mtx[i][j] == 0:\n",
    "                for n in range(1,10):\n",
    "                    if possibility(i,j,n,mtx):\n",
    "                        mtx[i][j] = n\n",
    "                        sudoku(mtx)\n",
    "                        mtx[i][j] = 0\n",
    "                return\n",
    "    print(np.matrix(mtx))\n",
    "    print(\"Sudoku Solved!!!\")\n",
    "\n",
    "# enter the sudoku grid here\n",
    "mtx = [[0,0,0,8,0,0,0,0,0],\n",
    "       [7,8,9,0,1,0,0,0,6],\n",
    "       [0,0,0,0,0,6,1,0,0],\n",
    "       [0,0,7,0,0,0,0,5,0],\n",
    "       [5,0,8,7,0,9,3,0,4],\n",
    "       [0,4,0,0,0,0,2,0,0],\n",
    "       [0,0,3,2,0,0,0,0,0],\n",
    "       [8,0,0,0,7,0,4,3,9],\n",
    "       [0,0,0,0,0,1,0,0,0]]\n",
    "\n",
    "sudoku(mtx)"
   ]
  },
  {
   "cell_type": "code",
   "execution_count": null,
   "metadata": {},
   "outputs": [],
   "source": []
  },
  {
   "cell_type": "code",
   "execution_count": null,
   "metadata": {},
   "outputs": [],
   "source": []
  }
 ],
 "metadata": {
  "kernelspec": {
   "display_name": "Python 3",
   "language": "python",
   "name": "python3"
  },
  "language_info": {
   "codemirror_mode": {
    "name": "ipython",
    "version": 3
   },
   "file_extension": ".py",
   "mimetype": "text/x-python",
   "name": "python",
   "nbconvert_exporter": "python",
   "pygments_lexer": "ipython3",
   "version": "3.8.5"
  }
 },
 "nbformat": 4,
 "nbformat_minor": 4
}
